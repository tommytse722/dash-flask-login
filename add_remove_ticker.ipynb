{
 "cells": [
  {
   "cell_type": "code",
   "execution_count": 2,
   "metadata": {},
   "outputs": [],
   "source": [
    "import ticker_mgt as tm"
   ]
  },
  {
   "cell_type": "code",
   "execution_count": null,
   "metadata": {},
   "outputs": [],
   "source": [
    "tm.drop_ticker_table()"
   ]
  },
  {
   "cell_type": "code",
   "execution_count": null,
   "metadata": {},
   "outputs": [],
   "source": [
    "tm.create_ticker_table()"
   ]
  },
  {
   "cell_type": "code",
   "execution_count": null,
   "metadata": {},
   "outputs": [],
   "source": [
    "tm.download_ticker()"
   ]
  },
  {
   "cell_type": "code",
   "execution_count": 5,
   "metadata": {
    "scrolled": true
   },
   "outputs": [
    {
     "name": "stdout",
     "output_type": "stream",
     "text": [
      "[*********************100%***********************]  1 of 1 completed\n"
     ]
    },
    {
     "data": {
      "text/html": [
       "<div>\n",
       "<style scoped>\n",
       "    .dataframe tbody tr th:only-of-type {\n",
       "        vertical-align: middle;\n",
       "    }\n",
       "\n",
       "    .dataframe tbody tr th {\n",
       "        vertical-align: top;\n",
       "    }\n",
       "\n",
       "    .dataframe thead th {\n",
       "        text-align: right;\n",
       "    }\n",
       "</style>\n",
       "<table border=\"1\" class=\"dataframe\">\n",
       "  <thead>\n",
       "    <tr style=\"text-align: right;\">\n",
       "      <th></th>\n",
       "      <th>Open</th>\n",
       "      <th>High</th>\n",
       "      <th>Low</th>\n",
       "      <th>Close</th>\n",
       "      <th>Adj Close</th>\n",
       "      <th>Volume</th>\n",
       "    </tr>\n",
       "    <tr>\n",
       "      <th>Date</th>\n",
       "      <th></th>\n",
       "      <th></th>\n",
       "      <th></th>\n",
       "      <th></th>\n",
       "      <th></th>\n",
       "      <th></th>\n",
       "    </tr>\n",
       "  </thead>\n",
       "  <tbody>\n",
       "    <tr>\n",
       "      <th>2019-09-25</th>\n",
       "      <td>40.560001</td>\n",
       "      <td>40.560001</td>\n",
       "      <td>39.520000</td>\n",
       "      <td>40.000000</td>\n",
       "      <td>38.011166</td>\n",
       "      <td>4582007</td>\n",
       "    </tr>\n",
       "    <tr>\n",
       "      <th>2019-09-26</th>\n",
       "      <td>40.880001</td>\n",
       "      <td>41.599998</td>\n",
       "      <td>40.320000</td>\n",
       "      <td>40.799999</td>\n",
       "      <td>38.771389</td>\n",
       "      <td>6462017</td>\n",
       "    </tr>\n",
       "    <tr>\n",
       "      <th>2019-09-27</th>\n",
       "      <td>41.279999</td>\n",
       "      <td>41.279999</td>\n",
       "      <td>40.160000</td>\n",
       "      <td>40.720001</td>\n",
       "      <td>38.695370</td>\n",
       "      <td>2745037</td>\n",
       "    </tr>\n",
       "    <tr>\n",
       "      <th>2019-09-30</th>\n",
       "      <td>40.320000</td>\n",
       "      <td>41.119999</td>\n",
       "      <td>40.000000</td>\n",
       "      <td>40.720001</td>\n",
       "      <td>38.695370</td>\n",
       "      <td>4467040</td>\n",
       "    </tr>\n",
       "    <tr>\n",
       "      <th>2019-10-02</th>\n",
       "      <td>40.320000</td>\n",
       "      <td>41.919998</td>\n",
       "      <td>40.240002</td>\n",
       "      <td>41.840000</td>\n",
       "      <td>39.759682</td>\n",
       "      <td>7920797</td>\n",
       "    </tr>\n",
       "    <tr>\n",
       "      <th>...</th>\n",
       "      <td>...</td>\n",
       "      <td>...</td>\n",
       "      <td>...</td>\n",
       "      <td>...</td>\n",
       "      <td>...</td>\n",
       "      <td>...</td>\n",
       "    </tr>\n",
       "    <tr>\n",
       "      <th>2020-09-21</th>\n",
       "      <td>39.400002</td>\n",
       "      <td>39.400002</td>\n",
       "      <td>37.950001</td>\n",
       "      <td>38.000000</td>\n",
       "      <td>38.000000</td>\n",
       "      <td>5207284</td>\n",
       "    </tr>\n",
       "    <tr>\n",
       "      <th>2020-09-22</th>\n",
       "      <td>37.700001</td>\n",
       "      <td>37.799999</td>\n",
       "      <td>37.299999</td>\n",
       "      <td>37.549999</td>\n",
       "      <td>37.549999</td>\n",
       "      <td>3044638</td>\n",
       "    </tr>\n",
       "    <tr>\n",
       "      <th>2020-09-23</th>\n",
       "      <td>37.549999</td>\n",
       "      <td>38.000000</td>\n",
       "      <td>37.250000</td>\n",
       "      <td>37.700001</td>\n",
       "      <td>37.700001</td>\n",
       "      <td>2898971</td>\n",
       "    </tr>\n",
       "    <tr>\n",
       "      <th>2020-09-24</th>\n",
       "      <td>37.500000</td>\n",
       "      <td>38.000000</td>\n",
       "      <td>37.000000</td>\n",
       "      <td>37.000000</td>\n",
       "      <td>37.000000</td>\n",
       "      <td>4187374</td>\n",
       "    </tr>\n",
       "    <tr>\n",
       "      <th>2020-09-25</th>\n",
       "      <td>37.700001</td>\n",
       "      <td>37.700001</td>\n",
       "      <td>36.849998</td>\n",
       "      <td>37.200001</td>\n",
       "      <td>37.200001</td>\n",
       "      <td>2149467</td>\n",
       "    </tr>\n",
       "  </tbody>\n",
       "</table>\n",
       "<p>250 rows × 6 columns</p>\n",
       "</div>"
      ],
      "text/plain": [
       "                 Open       High        Low      Close  Adj Close   Volume\n",
       "Date                                                                      \n",
       "2019-09-25  40.560001  40.560001  39.520000  40.000000  38.011166  4582007\n",
       "2019-09-26  40.880001  41.599998  40.320000  40.799999  38.771389  6462017\n",
       "2019-09-27  41.279999  41.279999  40.160000  40.720001  38.695370  2745037\n",
       "2019-09-30  40.320000  41.119999  40.000000  40.720001  38.695370  4467040\n",
       "2019-10-02  40.320000  41.919998  40.240002  41.840000  39.759682  7920797\n",
       "...               ...        ...        ...        ...        ...      ...\n",
       "2020-09-21  39.400002  39.400002  37.950001  38.000000  38.000000  5207284\n",
       "2020-09-22  37.700001  37.799999  37.299999  37.549999  37.549999  3044638\n",
       "2020-09-23  37.549999  38.000000  37.250000  37.700001  37.700001  2898971\n",
       "2020-09-24  37.500000  38.000000  37.000000  37.000000  37.000000  4187374\n",
       "2020-09-25  37.700001  37.700001  36.849998  37.200001  37.200001  2149467\n",
       "\n",
       "[250 rows x 6 columns]"
      ]
     },
     "execution_count": 5,
     "metadata": {},
     "output_type": "execute_result"
    }
   ],
   "source": [
    "tm.download_data_from_yf('1y', '1d', '0017.HK')"
   ]
  },
  {
   "cell_type": "code",
   "execution_count": null,
   "metadata": {},
   "outputs": [],
   "source": []
  }
 ],
 "metadata": {
  "kernelspec": {
   "display_name": "Python 3",
   "language": "python",
   "name": "python3"
  },
  "language_info": {
   "codemirror_mode": {
    "name": "ipython",
    "version": 3
   },
   "file_extension": ".py",
   "mimetype": "text/x-python",
   "name": "python",
   "nbconvert_exporter": "python",
   "pygments_lexer": "ipython3",
   "version": "3.7.7"
  }
 },
 "nbformat": 4,
 "nbformat_minor": 2
}
