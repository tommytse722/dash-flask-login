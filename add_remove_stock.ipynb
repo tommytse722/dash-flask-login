{
 "cells": [
  {
   "cell_type": "code",
   "execution_count": 1,
   "metadata": {},
   "outputs": [],
   "source": [
    "import stock_mgt as sm"
   ]
  },
  {
   "cell_type": "code",
   "execution_count": 2,
   "metadata": {},
   "outputs": [],
   "source": [
    "sm.drop_stock_table()"
   ]
  },
  {
   "cell_type": "code",
   "execution_count": 3,
   "metadata": {},
   "outputs": [],
   "source": [
    "sm.create_stock_table()"
   ]
  },
  {
   "cell_type": "code",
   "execution_count": 4,
   "metadata": {
    "scrolled": true
   },
   "outputs": [],
   "source": [
    "sm.show_stock()"
   ]
  },
  {
   "cell_type": "code",
   "execution_count": 5,
   "metadata": {},
   "outputs": [],
   "source": [
    "sm.add_stock()"
   ]
  },
  {
   "cell_type": "code",
   "execution_count": 6,
   "metadata": {},
   "outputs": [
    {
     "data": {
      "text/plain": [
       "['0001.HK',\n",
       " '0002.HK',\n",
       " '0003.HK',\n",
       " '0005.HK',\n",
       " '0006.HK',\n",
       " '0011.HK',\n",
       " '0012.HK',\n",
       " '0016.HK',\n",
       " '0017.HK',\n",
       " '0019.HK',\n",
       " '0027.HK',\n",
       " '0066.HK',\n",
       " '0101.HK',\n",
       " '0136.HK',\n",
       " '0175.HK',\n",
       " '0241.HK',\n",
       " '0267.HK',\n",
       " '0268.HK',\n",
       " '0285.HK',\n",
       " '0288.HK',\n",
       " '0386.HK',\n",
       " '0388.HK',\n",
       " '0522.HK',\n",
       " '0669.HK',\n",
       " '0688.HK',\n",
       " '0700.HK',\n",
       " '0762.HK',\n",
       " '0763.HK',\n",
       " '0772.HK',\n",
       " '0777.HK',\n",
       " '0780.HK',\n",
       " '0823.HK',\n",
       " '0857.HK',\n",
       " '0883.HK',\n",
       " '0939.HK',\n",
       " '0941.HK',\n",
       " '0981.HK',\n",
       " '0992.HK',\n",
       " '1038.HK',\n",
       " '1044.HK',\n",
       " '1093.HK',\n",
       " '1109.HK',\n",
       " '1113.HK',\n",
       " '1177.HK',\n",
       " '1299.HK',\n",
       " '1347.HK',\n",
       " '1398.HK',\n",
       " '1478.HK',\n",
       " '1797.HK',\n",
       " '1810.HK',\n",
       " '1833.HK',\n",
       " '1896.HK',\n",
       " '1928.HK',\n",
       " '1997.HK',\n",
       " '2007.HK',\n",
       " '2013.HK',\n",
       " '2018.HK',\n",
       " '2269.HK',\n",
       " '2313.HK',\n",
       " '2318.HK',\n",
       " '2319.HK',\n",
       " '2382.HK',\n",
       " '2388.HK',\n",
       " '2400.HK',\n",
       " '2628.HK',\n",
       " '2858.HK',\n",
       " '3328.HK',\n",
       " '3690.HK',\n",
       " '3888.HK',\n",
       " '3988.HK',\n",
       " '6060.HK',\n",
       " '6088.HK',\n",
       " '9618.HK',\n",
       " '9988.HK',\n",
       " '9999.HK']"
      ]
     },
     "execution_count": 6,
     "metadata": {},
     "output_type": "execute_result"
    }
   ],
   "source": [
    "sm.get_indice_stock_list()"
   ]
  },
  {
   "cell_type": "code",
   "execution_count": null,
   "metadata": {
    "scrolled": false
   },
   "outputs": [],
   "source": [
    "sm.get_index_list('hsi')"
   ]
  },
  {
   "cell_type": "code",
   "execution_count": null,
   "metadata": {},
   "outputs": [],
   "source": [
    "import pandas as pd\n",
    "def get_stock_df():\n",
    "    hkex_excel = pd.read_excel('https://www.hkex.com.hk/eng/services/trading/securities/securitieslists/ListOfSecurities.xlsx', skiprows = 2)\n",
    "    stock_df = hkex_excel[['Stock Code', 'Name of Securities', 'Board Lot']].copy()\n",
    "    stock_df = stock_df.rename(columns={\"Stock Code\": \"code\"})\n",
    "    return stock_df"
   ]
  },
  {
   "cell_type": "code",
   "execution_count": null,
   "metadata": {},
   "outputs": [],
   "source": [
    "get_stock_df()"
   ]
  },
  {
   "cell_type": "code",
   "execution_count": null,
   "metadata": {
    "scrolled": true
   },
   "outputs": [],
   "source": [
    "df = get_stock_df()\n",
    "df = df[df['code'].apply(lambda x: len(str(x)) <= 4)]"
   ]
  },
  {
   "cell_type": "code",
   "execution_count": null,
   "metadata": {},
   "outputs": [],
   "source": [
    "df"
   ]
  },
  {
   "cell_type": "code",
   "execution_count": null,
   "metadata": {},
   "outputs": [],
   "source": [
    "len(df)"
   ]
  },
  {
   "cell_type": "code",
   "execution_count": null,
   "metadata": {},
   "outputs": [],
   "source": [
    "import sqlite3\n",
    "import pandas as pd\n",
    "\n",
    "def get_user_stock(user_id):\n",
    "    value = ''\n",
    "    print(value+'123')\n",
    "    conn = sqlite3.connect('database.db')\n",
    "    df = pd.read_sql_query(\"SELECT stock_code FROM plan where plan.user_id=\" + str(user_id), conn)\n",
    "    if len(df)>0:\n",
    "        value = ','.join(df['stock_code'])\n",
    "    conn.close()\n",
    "    return value"
   ]
  },
  {
   "cell_type": "code",
   "execution_count": null,
   "metadata": {},
   "outputs": [],
   "source": [
    "get_user_stock(1)"
   ]
  },
  {
   "cell_type": "code",
   "execution_count": null,
   "metadata": {},
   "outputs": [],
   "source": []
  }
 ],
 "metadata": {
  "kernelspec": {
   "display_name": "Python 3",
   "language": "python",
   "name": "python3"
  },
  "language_info": {
   "codemirror_mode": {
    "name": "ipython",
    "version": 3
   },
   "file_extension": ".py",
   "mimetype": "text/x-python",
   "name": "python",
   "nbconvert_exporter": "python",
   "pygments_lexer": "ipython3",
   "version": "3.7.7"
  }
 },
 "nbformat": 4,
 "nbformat_minor": 2
}
