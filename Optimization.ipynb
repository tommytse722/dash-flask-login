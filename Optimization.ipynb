{
 "cells": [
  {
   "cell_type": "code",
   "execution_count": null,
   "metadata": {
    "scrolled": false
   },
   "outputs": [],
   "source": [
    "import numpy as np\n",
    "import pandas as pd\n",
    "import sqlite3\n",
    "import TA\n",
    "\n",
    "def select_plan():\n",
    "    conn = sqlite3.connect('database.db')\n",
    "    df = pd.read_sql_query(\"SELECT user_id, strategy_name, stock_code, capital, strategy.* FROM plan, strategy where strategy_name = strategy.name\", conn)\n",
    "    conn.close()\n",
    "    return df\n",
    "\n",
    "def get_ticker(stock):\n",
    "    conn = sqlite3.connect('database.db')\n",
    "    stock_code = \"'{0}'\".format(stock)\n",
    "    df = pd.read_sql_query(\"SELECT stock.code, date, open, high, low, close, adj_close, volume, board_lot FROM stock, ticker where stock.code = \" + stock_code + \" and stock.code = ticker.code\", conn)\n",
    "    conn.close()\n",
    "    return df\n",
    "\n",
    "df = select_plan()\n",
    "for _, r in df.iterrows():\n",
    "    rows = []\n",
    "    for x in range(r.x_start, r.x_end+1, r.x_step):\n",
    "        row = []\n",
    "        for y in range(r.y_start, r.y_end+1, r.y_step):\n",
    "            position, tx_df, trade_df, performance = TA.backtesting(r.stock_code, r.strategy_name, r.capital, get_ticker(r.stock_code), str(x), str(y))\n",
    "            print(performance[9])\n",
    "            row.append(performance[9])\n",
    "        rows.append(row)\n",
    "    print(rows)"
   ]
  },
  {
   "cell_type": "code",
   "execution_count": 7,
   "metadata": {},
   "outputs": [],
   "source": [
    "import sys\n",
    "\n",
    "import numpy as np\n",
    "\n",
    "def convolve2D(image, kernel, padding=0, strides=1):\n",
    "    # Cross Correlation\n",
    "    kernel = np.flipud(np.fliplr(kernel))\n",
    "\n",
    "    # Gather Shapes of Kernel + Image + Padding\n",
    "    xKernShape = kernel.shape[0]\n",
    "    yKernShape = kernel.shape[1]\n",
    "    xImgShape = image.shape[0]\n",
    "    yImgShape = image.shape[1]\n",
    "\n",
    "    # Shape of Output Convolution\n",
    "    xOutput = int(((xImgShape - xKernShape + 2 * padding) / strides) + 1)\n",
    "    yOutput = int(((yImgShape - yKernShape + 2 * padding) / strides) + 1)\n",
    "    output = np.zeros((xOutput, yOutput))\n",
    "\n",
    "    # Apply Equal Padding to All Sides\n",
    "    if padding != 0:\n",
    "        imagePadded = np.zeros((image.shape[0] + padding*2, image.shape[1] + padding*2))\n",
    "        imagePadded[int(padding):int(-1 * padding), int(padding):int(-1 * padding)] = image\n",
    "    else:\n",
    "        imagePadded = image\n",
    "\n",
    "    # Iterate through image\n",
    "    rows = []\n",
    "    for x in range(image.shape[0]):\n",
    "        # Exit Convolution\n",
    "        if x > image.shape[0] - xKernShape:\n",
    "            break\n",
    "        # Only Convolve if y has gone down by the specified Strides\n",
    "        if x % strides == 0:\n",
    "            row = []\n",
    "            for y in range(image.shape[1]):\n",
    "            # Go to next row once kernel is out of bounds\n",
    "                if y > image.shape[1] - yKernShape:\n",
    "                    break\n",
    "                try:\n",
    "                    # Only Convolve if x has moved by the specified Strides\n",
    "                    if y % strides == 0:\n",
    "                        output[x, y] = (kernel * imagePadded[x: x + xKernShape, y: y + yKernShape]).mean()\n",
    "                        row.append(output[x, y])\n",
    "                except:\n",
    "                    break\n",
    "        rows.append(row)\n",
    "    return rows"
   ]
  },
  {
   "cell_type": "code",
   "execution_count": 14,
   "metadata": {},
   "outputs": [
    {
     "data": {
      "text/plain": [
       "[[0.1831801524157903, 0.26834907178783723],\n",
       " [0.09445364730986132, 0.17156959914647155]]"
      ]
     },
     "execution_count": 14,
     "metadata": {},
     "output_type": "execute_result"
    }
   ],
   "source": [
    "# Edge Detection Kernel\n",
    "image = np.array([[0.0, 0.05762, 0.39164, 0.51195, 0.53947, 0.6099, 0.61694, 0.64319, 0.55794, 0.50668], [0.0688, 0.0, 0.561, 0.85301, 0.60633, 0.65773, 0.67307, 0.61793, 0.57017, 0.58891], [-0.04949, -0.17585, 0.0, 0.53133, 0.61169, 0.64516, 0.65347, 0.58652, 0.3228, 0.50744], [-0.06532, -0.20459, -0.08115, 0.0, 0.60195, 0.49254, 0.52612, 0.56598, 0.28565, 0.31771], [-0.09181, -0.13605, -0.13968, -0.14257, 0.0, 0.20694, 0.43965, 0.28969, 0.28837, 0.27616], [-0.1421, -0.14838, -0.1276, -0.04713, 0.05946, 0.0, 0.57572, 0.43081, 0.30436, 0.25785], [-0.13262, -0.15867, -0.12857, -0.03018, -0.00499, -0.12716, 0.0, 0.20029, 0.31102, 0.31155], [-0.14403, -0.10552, -0.11081, -0.04996, 0.07451, 0.01018, 0.15022, 0.0, 0.24197, 0.23054], [-0.12717, -0.11487, -0.02824, 0.03982, 0.04454, 0.0311, 0.02113, 0.04522, 0.0, 0.2477], [-0.05566, -0.09741, -0.02487, 0.07491, 0.13139, 0.15712, 0.02855, 0.19215, 0.13971, 0.0]])\n",
    "\n",
    "# Edge Detection Kernel\n",
    "kernel = np.array([[1, 1, 1], [1, 1, 1], [1, 1, 1]])\n",
    "\n",
    "# Convolve and Save Output\n",
    "output = convolve2D(image, kernel)\n",
    "output = convolve2D(np.array(output), kernel)\n",
    "output = convolve2D(np.array(output), kernel)\n",
    "output = convolve2D(np.array(output), kernel)\n",
    "output"
   ]
  },
  {
   "cell_type": "code",
   "execution_count": null,
   "metadata": {},
   "outputs": [],
   "source": []
  }
 ],
 "metadata": {
  "kernelspec": {
   "display_name": "Python 3",
   "language": "python",
   "name": "python3"
  },
  "language_info": {
   "codemirror_mode": {
    "name": "ipython",
    "version": 3
   },
   "file_extension": ".py",
   "mimetype": "text/x-python",
   "name": "python",
   "nbconvert_exporter": "python",
   "pygments_lexer": "ipython3",
   "version": "3.7.7"
  }
 },
 "nbformat": 4,
 "nbformat_minor": 2
}
