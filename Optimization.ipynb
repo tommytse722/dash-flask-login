{
 "cells": [
  {
   "cell_type": "code",
   "execution_count": null,
   "metadata": {},
   "outputs": [],
   "source": [
    "def Tuning(user_email):\n",
    "    optimize_ROI_df = pd.DataFrame(columns = ['strategy', 'stock', 'x', 'y', 'z'])\n",
    "    best_ROI_df = pd.DataFrame(columns = ['strategy', 'stock', 'x', 'y', 'z'])\n",
    "    z_name = \"Return\"\n",
    "    for _, user_stock_row in user_stock_df[user_stock_df.email == user_email].iterrows():\n",
    "        strategy_df=get_strategy_df(str(user_stock_row.strategy)).copy()\n",
    "        for _, strategy_row in strategy_df.iterrows():\n",
    "            x_name=str(strategy_row.x_name)\n",
    "            y_name=str(strategy_row.y_name)\n",
    "            x_value=int(strategy_row.x_value)\n",
    "            y_value=int(strategy_row.y_value)\n",
    "            x0=int(strategy_row.x0)\n",
    "            x_max=int(strategy_row.x_max)\n",
    "            dx=int(strategy_row.dx)\n",
    "            y0=int(strategy_row.y0)\n",
    "            y_max=int(strategy_row.y_max)\n",
    "            dy=int(strategy_row.dy)\n",
    "        column_names = [x_name, y_name, z_name]\n",
    "        ROI_df = pd.DataFrame(columns = column_names)\n",
    "        max_x = 0\n",
    "        max_y = 0\n",
    "        max_ROI = -100\n",
    "        print(user_stock_row.stock)\n",
    "        for x in range(x0, x_max+1, dx):\n",
    "            for y in range(y0, y_max+1, dy):\n",
    "                position = backtesting(user_stock_row, str(x), str(y))\n",
    "                ROI = ((position.value[-1]-position.value[0])/position.value[0]).round(2)\n",
    "                new_row = {x_name:x, y_name:y, z_name:ROI}\n",
    "                ROI_df = ROI_df.append(new_row, ignore_index=True)\n",
    "                if ROI>max_ROI:\n",
    "                    max_ROI = ROI\n",
    "                    max_x = x\n",
    "                    max_y = y\n",
    "                new_optimize_row = {'strategy':str(user_stock_row.strategy), 'stock':str(user_stock_row.stock), 'x':x, 'y':y, 'z':ROI}\n",
    "                optimize_ROI_df = optimize_ROI_df.append(new_optimize_row, ignore_index=True)\n",
    "        plot_ROI_contour(user_stock_row, ROI_df, strategy_df)\n",
    "        new_best_row = {'strategy':str(user_stock_row.strategy), 'stock':str(user_stock_row.stock), 'x':max_x, 'y':max_y, 'z':max_ROI}\n",
    "        best_ROI_df = best_ROI_df.append(new_best_row, ignore_index=True)\n",
    "        print(str(user_stock_row.strategy) + '(' + str(max_x) + ', ' + str(max_y) + ') is better for ' + str(user_stock_row.stock))\n",
    "        plot_ROI_contour(user_stock_row, ROI_df, strategy_df, relative=True)\n",
    "    return best_ROI_df, optimize_ROI_df"
   ]
  }
 ],
 "metadata": {
  "kernelspec": {
   "display_name": "Python 3",
   "language": "python",
   "name": "python3"
  },
  "language_info": {
   "codemirror_mode": {
    "name": "ipython",
    "version": 3
   },
   "file_extension": ".py",
   "mimetype": "text/x-python",
   "name": "python",
   "nbconvert_exporter": "python",
   "pygments_lexer": "ipython3",
   "version": "3.7.7"
  }
 },
 "nbformat": 4,
 "nbformat_minor": 2
}
